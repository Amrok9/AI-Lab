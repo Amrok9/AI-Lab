{
  "nbformat": 4,
  "nbformat_minor": 0,
  "metadata": {
    "colab": {
      "provenance": []
    },
    "kernelspec": {
      "name": "python3",
      "display_name": "Python 3"
    },
    "language_info": {
      "name": "python"
    }
  },
  "cells": [
    {
      "cell_type": "markdown",
      "source": [
        "### **Gaussian Mixture Models for Speaker Identification**\n",
        " **Goal:** Use Gaussian Mixture Models to learn and identify different speakers based on their voice feature distributions."
      ],
      "metadata": {
        "id": "WpdNfBEUeyfC"
      }
    },
    {
      "cell_type": "code",
      "source": [
        "import kagglehub\n",
        "kongaevans_speaker_recognition_dataset_path = kagglehub.dataset_download('kongaevans/speaker-recognition-dataset')\n",
        "\n",
        "print('Data source import complete.')"
      ],
      "metadata": {
        "colab": {
          "base_uri": "https://localhost:8080/"
        },
        "id": "-iiA2YKpfaRC",
        "outputId": "36bc5c1d-cccb-42cf-f2b3-b4876c41b6d7"
      },
      "execution_count": 39,
      "outputs": [
        {
          "output_type": "stream",
          "name": "stdout",
          "text": [
            "Data source import complete.\n"
          ]
        }
      ]
    },
    {
      "cell_type": "code",
      "execution_count": 46,
      "metadata": {
        "id": "9I50eOX5emY1"
      },
      "outputs": [],
      "source": [
        "import os\n",
        "import numpy as np\n",
        "import librosa\n",
        "from sklearn.mixture import GaussianMixture\n",
        "from sklearn.model_selection import train_test_split\n",
        "\n",
        "# Base dataset path\n",
        "BASE_PATH = \"/kaggle/input/speaker-recognition-dataset/16000_pcm_speeches\"\n",
        "\n",
        "# List of speaker folders\n",
        "speaker_folders = [\n",
        "    \"Benjamin_Netanyau\",\n",
        "    \"Jens_Stoltenberg\",\n",
        "    \"Julia_Gillard\",\n",
        "    \"Magaret_Tarcher\",\n",
        "    \"Nelson_Mandela\"\n",
        "]"
      ]
    },
    {
      "cell_type": "code",
      "source": [
        "def extract_features_from_files(files, folder_path):\n",
        "    features = []\n",
        "    for file in files:\n",
        "        file_path = os.path.join(folder_path, file)\n",
        "        y, sr = librosa.load(file_path, sr=None)\n",
        "        mfcc = librosa.feature.mfcc(y=y, sr=sr, n_mfcc=13)\n",
        "        features.append(np.mean(mfcc.T, axis=0))\n",
        "    return np.vstack(features)"
      ],
      "metadata": {
        "id": "UAc0zWpkiqIr"
      },
      "execution_count": 48,
      "outputs": []
    },
    {
      "cell_type": "code",
      "source": [
        "models = {}\n",
        "test_data = []\n",
        "\n",
        "# Train a GMM for each speaker\n",
        "for speaker in speaker_folders:\n",
        "    folder_path = os.path.join(BASE_PATH, speaker)\n",
        "    files = [f for f in os.listdir(folder_path) if f.endswith(\".wav\")]\n",
        "\n",
        "    train_files, test_files = train_test_split(files, test_size=0.3, random_state=42)\n",
        "\n",
        "    # Extract training features\n",
        "    train_features = extract_features_from_files(train_files, folder_path)\n",
        "\n",
        "    # Train GMM\n",
        "    gmm = GaussianMixture(n_components=8, covariance_type='diag', n_init=3)\n",
        "    gmm.fit(train_features)\n",
        "    models[speaker] = gmm\n",
        "\n",
        "    # Save test files for evaluation\n",
        "    for file in test_files:\n",
        "        test_data.append((os.path.join(folder_path, file), speaker))"
      ],
      "metadata": {
        "id": "lwldkJ77mT0-"
      },
      "execution_count": 49,
      "outputs": []
    },
    {
      "cell_type": "code",
      "source": [
        "# Prediction function\n",
        "def predict_speaker(file_path):\n",
        "    y, sr = librosa.load(file_path, sr=None)\n",
        "    mfcc = librosa.feature.mfcc(y=y, sr=sr, n_mfcc=13)\n",
        "    feature = np.mean(mfcc.T, axis=0).reshape(1, -1)\n",
        "\n",
        "    scores = {speaker: model.score(feature) for speaker, model in models.items()}\n",
        "    return max(scores, key=scores.get)"
      ],
      "metadata": {
        "id": "F7U_rFOCmpO3"
      },
      "execution_count": 50,
      "outputs": []
    },
    {
      "cell_type": "code",
      "source": [
        "# Evaluate accuracy\n",
        "correct = 0\n",
        "for file_path, true_speaker in test_data:\n",
        "    predicted_speaker = predict_speaker(file_path)\n",
        "    if predicted_speaker == true_speaker:\n",
        "        correct += 1\n",
        "\n",
        "accuracy = correct / len(test_data)\n",
        "print(f\"Accuracy: {accuracy:.2%}\")"
      ],
      "metadata": {
        "colab": {
          "base_uri": "https://localhost:8080/"
        },
        "id": "OB5oWOa6msZb",
        "outputId": "ca74b5de-8944-49cb-eb3e-0e9506e6d68b"
      },
      "execution_count": 51,
      "outputs": [
        {
          "output_type": "stream",
          "name": "stdout",
          "text": [
            "Accuracy: 98.09%\n"
          ]
        }
      ]
    },
    {
      "cell_type": "markdown",
      "source": [
        "### **Summary**\n",
        "\n",
        "In this project, we built a Speaker Recognition System using audio recordings from 5 different speakers\n",
        "\n",
        "We extracted MFCC (Mel-Frequency Cepstral Coefficients) features from each .wav file to represent the speaker’s vocal characteristics.\n",
        "\n",
        "A separate Gaussian Mixture Model (GMM) was trained for each speaker using these features. During prediction, the system calculates the likelihood of the test audio sample under each speaker's GMM and selects the speaker with the highest score.\n",
        "\n",
        "The dataset was split into training and testing sets, and the final evaluation showed an accuracy of 98.09%.\n",
        "\n",
        "**Key methods used:**\n",
        "- MFCC feature extraction (librosa)\n",
        "- Gaussian Mixture Models (sklearn)\n",
        "- Multi-class classification\n"
      ],
      "metadata": {
        "id": "zRF9B-Bkqr2R"
      }
    }
  ]
}