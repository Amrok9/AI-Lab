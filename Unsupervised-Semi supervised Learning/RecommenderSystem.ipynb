{
  "nbformat": 4,
  "nbformat_minor": 0,
  "metadata": {
    "colab": {
      "provenance": []
    },
    "kernelspec": {
      "name": "python3",
      "display_name": "Python 3"
    },
    "language_info": {
      "name": "python"
    }
  },
  "cells": [
    {
      "cell_type": "markdown",
      "source": [
        "### **Build a User-Based Recommender System**\n",
        "**Goal:** Recommend items to users based on preferences of similar users using User-Based Collaborative Filtering."
      ],
      "metadata": {
        "id": "1zyvBVFH_CnW"
      }
    },
    {
      "cell_type": "markdown",
      "source": [
        "**Simulate or Load User-Item Rating Data**\n"
      ],
      "metadata": {
        "id": "HIbPvlFA_HjO"
      }
    },
    {
      "cell_type": "code",
      "execution_count": 4,
      "metadata": {
        "colab": {
          "base_uri": "https://localhost:8080/"
        },
        "id": "fCLe6Ti9-9CA",
        "outputId": "58cfc838-393f-4166-ec96-39935385e6f0"
      },
      "outputs": [
        {
          "output_type": "stream",
          "name": "stdout",
          "text": [
            "       Movie A  Movie B  Movie C  Movie D  Movie E\n",
            "User1        5        4        0        1        0\n",
            "User2        4        0        0        1        2\n",
            "User3        1        1        0        5        4\n",
            "User4        0        0        5        4        5\n",
            "User5        1        0        4        4        0\n"
          ]
        }
      ],
      "source": [
        "#We’ll create a simple user-movie rating matrix.\n",
        "import pandas as pd\n",
        "import numpy as np\n",
        "# Simulated user-item ratings (0 = not rated)\n",
        "ratings_dict = {\n",
        "'User1': [5, 4, 0, 1, 0],\n",
        "'User2': [4, 0, 0, 1, 2],\n",
        "'User3': [1, 1, 0, 5, 4],\n",
        "'User4': [0, 0, 5, 4, 5],\n",
        "'User5': [1, 0, 4, 4, 0]\n",
        "}\n",
        "movies = ['Movie A', 'Movie B', 'Movie C', 'Movie D', 'Movie E']\n",
        "ratings = pd.DataFrame(ratings_dict, index=movies).T\n",
        "print(ratings)"
      ]
    },
    {
      "cell_type": "markdown",
      "source": [
        "**Compute User Similarity Matrix**"
      ],
      "metadata": {
        "id": "NSWLdwzu_UTN"
      }
    },
    {
      "cell_type": "code",
      "source": [
        "from sklearn.metrics.pairwise import cosine_similarity\n",
        "# Fill NaNs or zeros with 0 (assume unrated items)\n",
        "\n",
        "user_sim = pd.DataFrame(\n",
        "  cosine_similarity(ratings),\n",
        "  index=ratings.index,\n",
        "  columns=ratings.index\n",
        ")\n",
        "print(user_sim)"
      ],
      "metadata": {
        "colab": {
          "base_uri": "https://localhost:8080/"
        },
        "id": "0Nfspy20_OnP",
        "outputId": "ff3605f8-44b1-4f35-c768-f413438a5cce"
      },
      "execution_count": 5,
      "outputs": [
        {
          "output_type": "stream",
          "name": "stdout",
          "text": [
            "          User1     User2     User3     User4     User5\n",
            "User1  1.000000  0.707107  0.329435  0.075974  0.241747\n",
            "User2  0.707107  1.000000  0.565725  0.376051  0.303895\n",
            "User3  0.329435  0.565725  1.000000  0.750851  0.557478\n",
            "User4  0.075974  0.376051  0.750851  1.000000  0.771389\n",
            "User5  0.241747  0.303895  0.557478  0.771389  1.000000\n"
          ]
        }
      ]
    },
    {
      "cell_type": "markdown",
      "source": [
        "**Predict Ratings for a Target User**\n",
        "\n",
        "We’ll compute a predicted score for unrated items based on weighted sum of ratings from similar users."
      ],
      "metadata": {
        "id": "QVCqQvmqCdpe"
      }
    },
    {
      "cell_type": "code",
      "source": [
        "def get_recommendations(user_id, ratings_df, sim_matrix, top_n=2):\n",
        "    # Get all ratings of the target user\n",
        "    user_ratings = ratings_df.loc[user_id]\n",
        "\n",
        "    # Identify items the user hasn't rated yet\n",
        "    unrated_items = user_ratings[user_ratings == 0].index\n",
        "\n",
        "    # Get similarity scores between the target user and all other users\n",
        "    sim_scores = sim_matrix.loc[user_id]\n",
        "\n",
        "    predicted_scores = {}\n",
        "\n",
        "    # Loop through all items the user hasn't rated\n",
        "    for item in unrated_items:\n",
        "        total_sim = 0      # Sum of similarities\n",
        "        weighted_sum = 0   # Sum of (similarity × rating)\n",
        "\n",
        "        # Loop through all other users\n",
        "        for other_user in ratings_df.index:\n",
        "            if other_user == user_id:\n",
        "                continue  # Skip the target user\n",
        "\n",
        "            # Get the other user's rating for the item\n",
        "            rating = ratings_df.loc[other_user, item]\n",
        "\n",
        "            if rating > 0:  # Only consider users who rated the item\n",
        "                sim = sim_scores[other_user]  # Similarity with the target user\n",
        "                weighted_sum += sim * rating\n",
        "                total_sim += sim\n",
        "\n",
        "        # Compute the predicted score if there's at least one similar rating\n",
        "        if total_sim > 0:\n",
        "            predicted_scores[item] = weighted_sum / total_sim\n",
        "\n",
        "    # Return the top N items sorted by predicted score in descending order\n",
        "    return sorted(predicted_scores.items(), key=lambda x: x[1], reverse=True)[:top_n]\n",
        "\n",
        "# Example usage:\n",
        "# Make sure 'ratings' is a user-item matrix (DataFrame)\n",
        "# and 'user_sim' is a user-user similarity matrix (DataFrame)\n",
        "recommendations = get_recommendations('User1', ratings, user_sim)\n",
        "print(\"Recommendations for User1:\", recommendations)"
      ],
      "metadata": {
        "colab": {
          "base_uri": "https://localhost:8080/"
        },
        "id": "bD11qU1S_WtB",
        "outputId": "fea41b77-3f6a-49ff-ba1a-4a1d26990563"
      },
      "execution_count": 6,
      "outputs": [
        {
          "output_type": "stream",
          "name": "stdout",
          "text": [
            "Recommendations for User1: [('Movie C', np.float64(4.2391211523659695)), ('Movie E', np.float64(2.797104066480733))]\n"
          ]
        }
      ]
    },
    {
      "cell_type": "markdown",
      "source": [
        "**🔍 Explanation:**\n",
        "\n",
        "('Movie C', 4.24) → The system predicts that User1 would rate \"Movie C\" around 4.24 out of 5, so it's the top recommendation.\n",
        "\n",
        "('Movie E', 2.80) → The system predicts User1 would rate \"Movie E\" around 2.80, which is less preferred, but still the second-best option among unrated movies."
      ],
      "metadata": {
        "id": "cjg2uYF8C2cN"
      }
    },
    {
      "cell_type": "markdown",
      "source": [
        "**Visualize Similarity**"
      ],
      "metadata": {
        "id": "bsdu2t3zCwS1"
      }
    },
    {
      "cell_type": "code",
      "source": [
        "import seaborn as sns\n",
        "import matplotlib.pyplot as plt\n",
        "plt.figure(figsize=(6, 4))\n",
        "sns.heatmap(user_sim, annot=True, cmap='Blues')\n",
        "plt.title(\"User-User Cosine Similarity Matrix\")\n",
        "plt.show()"
      ],
      "metadata": {
        "colab": {
          "base_uri": "https://localhost:8080/",
          "height": 391
        },
        "id": "ZMp1pEsRCad2",
        "outputId": "22e5f108-d989-40bb-e264-5b3618f76fcf"
      },
      "execution_count": 7,
      "outputs": [
        {
          "output_type": "display_data",
          "data": {
            "text/plain": [
              "<Figure size 600x400 with 2 Axes>"
            ],
            "image/png": "[encoded data removed]"
          },
          "metadata": {}
        }
      ]
    },
    {
      "cell_type": "markdown",
      "source": [
        "### 📽️ Project Summary: User-Based Recommender System\n",
        "\n",
        "This project builds a **User-Based Collaborative Filtering** recommender system to suggest movies to users based on ratings from similar users.\n",
        "\n",
        "- **Technique:** User-based Collaborative Filtering\n",
        "- **Similarity Metric:** Cosine Similarity\n",
        "- **Input:** A user-item rating matrix (e.g., users rating movies from 0–5, where 0 = not rated)\n",
        "- **Process:**\n",
        "  1. Compute user-user similarity using `cosine_similarity`.\n",
        "  2. Predict ratings for unrated movies using a weighted average of similar users' ratings.\n",
        "  3. Recommend the top-N highest predicted movies for each user.\n",
        "- **Output:** Personalized recommendations (e.g., `Recommendations for User1: [('Movie C', 4.24), ('Movie E', 2.80)]`)\n",
        "\n",
        "This helps simulate how platforms like Netflix or Amazon suggest items based on what similar users liked.\n"
      ],
      "metadata": {
        "id": "PNuMgVwnC6iJ"
      }
    }
  ]
}